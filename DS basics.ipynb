{
 "cells": [
  {
   "cell_type": "markdown",
   "metadata": {},
   "source": [
    "<b>Concatenating sequences of same type"
   ]
  },
  {
   "cell_type": "code",
   "execution_count": 1,
   "metadata": {},
   "outputs": [
    {
     "name": "stdout",
     "output_type": "stream",
     "text": [
      "horseshoe\n",
      "['Elephant', 'Cow', 'Horse']\n",
      "('Kevin', 'Niklas', 'Jenny', 'Craig')\n"
     ]
    }
   ],
   "source": [
    "# String\n",
    "x = 'horse' + 'shoe'\n",
    "print(x)\n",
    "\n",
    "# List\n",
    "y = ['Elephant', 'Cow'] + ['Horse']\n",
    "print(y)\n",
    "\n",
    "# Tuple\n",
    "z = ('Kevin', 'Niklas', 'Jenny') + ('Craig',)\n",
    "print(z)"
   ]
  },
  {
   "cell_type": "markdown",
   "metadata": {},
   "source": [
    "<b>Multiply a sequence"
   ]
  },
  {
   "cell_type": "code",
   "execution_count": 4,
   "metadata": {},
   "outputs": [
    {
     "name": "stdout",
     "output_type": "stream",
     "text": [
      "bugbugbug\n",
      "[8, 5, 8, 5, 8, 5]\n",
      "(2, 4, 2, 4, 2, 4)\n"
     ]
    }
   ],
   "source": [
    "# string\n",
    "x = 'bug'*3\n",
    "print(x)\n",
    "\n",
    "# list\n",
    "y = [8, 5] * 3\n",
    "print(y)\n",
    "\n",
    "# tuple\n",
    "z = (2 ,4) * 3\n",
    "print(z)"
   ]
  },
  {
   "cell_type": "markdown",
   "metadata": {},
   "source": [
    "<b>Checking membership"
   ]
  },
  {
   "cell_type": "code",
   "execution_count": 5,
   "metadata": {},
   "outputs": [
    {
     "name": "stdout",
     "output_type": "stream",
     "text": [
      "True\n",
      "False\n",
      "True\n"
     ]
    }
   ],
   "source": [
    "# string\n",
    "x = 'bug'\n",
    "print('u' in x)\n",
    "\n",
    "# list\n",
    "y = ['dog', 'cow', 'horse'] \n",
    "print('cow' not in y)\n",
    "\n",
    "# tuple\n",
    "z = ('Kevin', 'Niklas', 'Jenny', 'Craig')\n",
    "print('Niklas' in z)"
   ]
  },
  {
   "cell_type": "markdown",
   "metadata": {},
   "source": [
    "<b>iterating</b> - iterating through items in a sequence"
   ]
  },
  {
   "cell_type": "code",
   "execution_count": 6,
   "metadata": {},
   "outputs": [
    {
     "name": "stdout",
     "output_type": "stream",
     "text": [
      "7\n",
      "8\n",
      "3\n",
      "0 7\n",
      "1 8\n",
      "2 3\n"
     ]
    }
   ],
   "source": [
    "# item\n",
    "x = [7,8,3]\n",
    "for item in x:\n",
    "    print(item)\n",
    "\n",
    "# index and item\n",
    "y = [7,8,3]\n",
    "for index, item in enumerate(y):\n",
    "    print(index, item)"
   ]
  },
  {
   "cell_type": "markdown",
   "metadata": {},
   "source": [
    "<b>number of items</b> - count the number of items in a sequence"
   ]
  },
  {
   "cell_type": "code",
   "execution_count": 7,
   "metadata": {},
   "outputs": [
    {
     "name": "stdout",
     "output_type": "stream",
     "text": [
      "3\n",
      "3\n",
      "4\n"
     ]
    }
   ],
   "source": [
    "# string\n",
    "x = 'bug'\n",
    "print(len(x))\n",
    "\n",
    "# list\n",
    "y = ['dog', 'cow', 'horse'] \n",
    "print(len(y))\n",
    "\n",
    "# tuple\n",
    "z = ('Kevin', 'Niklas', 'Jenny', 'Craig')\n",
    "print(len(z))"
   ]
  },
  {
   "cell_type": "markdown",
   "metadata": {},
   "source": [
    "<b>minimum</b> - find the minimum item in a sequence lexicographically.<br>Alpha or numeric types, but cannot mix types"
   ]
  },
  {
   "cell_type": "code",
   "execution_count": 8,
   "metadata": {},
   "outputs": [
    {
     "name": "stdout",
     "output_type": "stream",
     "text": [
      "b\n",
      "cow\n",
      "Craig\n"
     ]
    }
   ],
   "source": [
    "# string\n",
    "x = 'bug'\n",
    "print(min(x))\n",
    "\n",
    "# list\n",
    "y = ['dog', 'cow', 'horse'] \n",
    "print(min(y))\n",
    "\n",
    "# tuple\n",
    "z = ('Kevin', 'Niklas', 'Jenny', 'Craig')\n",
    "print(min(z))"
   ]
  },
  {
   "cell_type": "markdown",
   "metadata": {},
   "source": [
    "<b>sum</b> - find the sum of items in a sequence.<br>Entire sequence must be numeric"
   ]
  },
  {
   "cell_type": "code",
   "execution_count": 9,
   "metadata": {},
   "outputs": [
    {
     "name": "stdout",
     "output_type": "stream",
     "text": [
      "21\n",
      "14\n",
      "76\n"
     ]
    }
   ],
   "source": [
    "# string\n",
    "# x = [5, ,7, 'bug']\n",
    "# print(sum(x))        # generates error\n",
    "\n",
    "# list\n",
    "y = [2,5,6,8] \n",
    "print(sum(y))\n",
    "print(sum(y[2:]))\n",
    "\n",
    "# tuple\n",
    "z = (4,6,7,3,56)\n",
    "print(sum(z))"
   ]
  },
  {
   "cell_type": "markdown",
   "metadata": {},
   "source": [
    "<b>sorting</b> - returns a new list of sorted order.<br>Does not change the original list."
   ]
  },
  {
   "cell_type": "code",
   "execution_count": 10,
   "metadata": {},
   "outputs": [
    {
     "name": "stdout",
     "output_type": "stream",
     "text": [
      "['b', 'g', 'u']\n",
      "['cow', 'dog', 'horse']\n",
      "['Craig', 'Jenny', 'Kevin', 'Niklas']\n"
     ]
    }
   ],
   "source": [
    "# string\n",
    "x = 'bug'\n",
    "print(sorted(x))\n",
    "\n",
    "# list\n",
    "y = ['dog', 'cow', 'horse'] \n",
    "print(sorted(y))\n",
    "\n",
    "# tuple\n",
    "z = ('Kevin', 'Niklas', 'Jenny', 'Craig')\n",
    "print(sorted(z))"
   ]
  },
  {
   "cell_type": "markdown",
   "metadata": {},
   "source": [
    "<b>sorting</b> - sort by second letter <br>Add a key parameter and a lambda function to return the second character.<br>(the word <i>key</i> here is a defined parameter name, <i>k</i> is an arbitrary variable name) "
   ]
  },
  {
   "cell_type": "code",
   "execution_count": 12,
   "metadata": {},
   "outputs": [
    {
     "name": "stdout",
     "output_type": "stream",
     "text": [
      "['Kevin', 'Jenny', 'Niklas', 'Craig']\n"
     ]
    }
   ],
   "source": [
    "z = ('Kevin', 'Niklas', 'Jenny', 'Craig')\n",
    "print(sorted(z, key=lambda k: k[1]))"
   ]
  },
  {
   "cell_type": "markdown",
   "metadata": {},
   "source": [
    "<b>count(item) - </b>returns count of an item"
   ]
  },
  {
   "cell_type": "code",
   "execution_count": 14,
   "metadata": {},
   "outputs": [
    {
     "name": "stdout",
     "output_type": "stream",
     "text": [
      "2\n",
      "2\n",
      "1\n"
     ]
    }
   ],
   "source": [
    "# string\n",
    "x = 'hippo'\n",
    "print(x.count('p'))\n",
    "\n",
    "# list\n",
    "y = ['dog', 'cow', 'horse', 'cow']\n",
    "print(y.count('cow'))\n",
    "\n",
    "# tuple\n",
    "z = ('Kevin', 'Niklas', 'Jenny', 'Craig')\n",
    "print(z.count('Kevin'))"
   ]
  },
  {
   "cell_type": "markdown",
   "metadata": {},
   "source": [
    "<b>index(item) - </b>returns the index of the first occurence of an item."
   ]
  },
  {
   "cell_type": "code",
   "execution_count": 15,
   "metadata": {},
   "outputs": [
    {
     "name": "stdout",
     "output_type": "stream",
     "text": [
      "2\n",
      "1\n",
      "0\n"
     ]
    }
   ],
   "source": [
    "# string\n",
    "x = 'hippo'\n",
    "print(x.index('p'))\n",
    "\n",
    "# list\n",
    "y = ['dog', 'cow', 'horse', 'cow']\n",
    "print(y.index('cow'))\n",
    "\n",
    "# tuple\n",
    "z = ('Kevin', 'Niklas', 'Jenny', 'Craig')\n",
    "print(z.index('Kevin'))"
   ]
  },
  {
   "cell_type": "markdown",
   "metadata": {},
   "source": [
    "<b>unpacking - </b>unpack the items of a sequence into n variables"
   ]
  },
  {
   "cell_type": "code",
   "execution_count": 17,
   "metadata": {},
   "outputs": [
    {
     "name": "stdout",
     "output_type": "stream",
     "text": [
      "dog cow horse\n"
     ]
    }
   ],
   "source": [
    "y = ['dog', 'cow', 'horse']\n",
    "a,b,c = y\n",
    "print(a,b,c)"
   ]
  },
  {
   "cell_type": "markdown",
   "metadata": {},
   "source": [
    "# Lists"
   ]
  },
  {
   "cell_type": "markdown",
   "metadata": {},
   "source": [
    "<ul><li> General purpose</li> <li> Most widely used data structure</li> <li> Grow and shrink size as needed</li> <li> Sequence type </li> <li> Sortable </li>\n",
    "</ul> <br> <b>constructors - </b> creating a new list"
   ]
  },
  {
   "cell_type": "code",
   "execution_count": 18,
   "metadata": {},
   "outputs": [
    {
     "name": "stdout",
     "output_type": "stream",
     "text": [
      "[0, 1, 2, 3, 4, 5, 6, 7]\n",
      "[25, 36, 49, 64, 81]\n"
     ]
    }
   ],
   "source": [
    "x = list()\n",
    "y = ['a', 25, 'dog', 8.43]\n",
    "tuple1 = (10,20)\n",
    "z = list(tuple1)\n",
    "\n",
    "# list comprehension\n",
    "a = [m for m in range(8)]\n",
    "print(a)\n",
    "b = [i**2 for i in range(10) if i>4]\n",
    "print(b)"
   ]
  },
  {
   "cell_type": "markdown",
   "metadata": {},
   "source": [
    "<b> delete - </b> delete a list or an item in a list"
   ]
  },
  {
   "cell_type": "code",
   "execution_count": 19,
   "metadata": {},
   "outputs": [
    {
     "name": "stdout",
     "output_type": "stream",
     "text": [
      "[5, 6, 8]\n"
     ]
    }
   ],
   "source": [
    "x = [5,3,6,8]\n",
    "del(x[1])\n",
    "print(x)"
   ]
  },
  {
   "cell_type": "markdown",
   "metadata": {},
   "source": [
    "<b>extend - </b>append a sequence to a list"
   ]
  },
  {
   "cell_type": "code",
   "execution_count": 20,
   "metadata": {},
   "outputs": [
    {
     "name": "stdout",
     "output_type": "stream",
     "text": [
      "[5, 3, 7, 8, 12, 13]\n"
     ]
    }
   ],
   "source": [
    "x = [5,3,7,8]\n",
    "y = [12,13]\n",
    "x.extend(y)\n",
    "print(x)"
   ]
  },
  {
   "cell_type": "markdown",
   "metadata": {},
   "source": [
    "<b> insert - </b> insert an itemat a given index"
   ]
  },
  {
   "cell_type": "code",
   "execution_count": 21,
   "metadata": {},
   "outputs": [
    {
     "name": "stdout",
     "output_type": "stream",
     "text": [
      "[5, 7, 3, 8, 6]\n",
      "[5, ['a', 'm'], 7, 3, 8, 6]\n"
     ]
    }
   ],
   "source": [
    "x = [5,3,8,6]\n",
    "x.insert(1,7)\n",
    "print(x)\n",
    "x.insert(1, ['a','m'])\n",
    "print(x)"
   ]
  },
  {
   "cell_type": "markdown",
   "metadata": {},
   "source": [
    "<b>pop - </b> pops off the last item of list and returmns items"
   ]
  },
  {
   "cell_type": "code",
   "execution_count": 22,
   "metadata": {},
   "outputs": [
    {
     "name": "stdout",
     "output_type": "stream",
     "text": [
      "[5, 3, 8]\n",
      "8\n"
     ]
    }
   ],
   "source": [
    "x = [5,3,8,6]\n",
    "x.pop()\n",
    "print(x)\n",
    "print(x.pop())"
   ]
  },
  {
   "cell_type": "markdown",
   "metadata": {},
   "source": [
    "<b>remove - </b>remove first instance of an item in a list"
   ]
  },
  {
   "cell_type": "code",
   "execution_count": 23,
   "metadata": {},
   "outputs": [
    {
     "name": "stdout",
     "output_type": "stream",
     "text": [
      "[5, 8, 6, 3]\n"
     ]
    }
   ],
   "source": [
    "x = [5,3,8,6,3]\n",
    "x.remove(3)\n",
    "print(x)"
   ]
  },
  {
   "cell_type": "markdown",
   "metadata": {},
   "source": [
    "<b>reverse - </b>reverse the order of the list. It is an in-place sort, meaning it changes the original list."
   ]
  },
  {
   "cell_type": "code",
   "execution_count": 24,
   "metadata": {},
   "outputs": [
    {
     "name": "stdout",
     "output_type": "stream",
     "text": [
      "[6, 8, 3, 5]\n"
     ]
    }
   ],
   "source": [
    "x = [5,3,8,6]\n",
    "x.reverse()\n",
    "print(x)"
   ]
  },
  {
   "cell_type": "markdown",
   "metadata": {},
   "source": [
    "<b>sort - </b> sort the list in-place. <br>Note:<br>sorted(x) returns a new sorted list without changing the original list x. x.sort() puts the items in x in sorted order (sorts in-place)."
   ]
  },
  {
   "cell_type": "code",
   "execution_count": 25,
   "metadata": {},
   "outputs": [
    {
     "name": "stdout",
     "output_type": "stream",
     "text": [
      "[3, 5, 6, 8]\n"
     ]
    }
   ],
   "source": [
    "x = [5,3,8,6]\n",
    "x.sort()\n",
    "print(x)"
   ]
  },
  {
   "cell_type": "markdown",
   "metadata": {},
   "source": [
    "<b>reverse sort - </b>sort items descending. <br>Use <i>reverse = True</i> parameter to the sort function."
   ]
  },
  {
   "cell_type": "code",
   "execution_count": 26,
   "metadata": {},
   "outputs": [
    {
     "name": "stdout",
     "output_type": "stream",
     "text": [
      "[8, 6, 5, 3]\n"
     ]
    }
   ],
   "source": [
    "x = [5,3,8,6]\n",
    "x.sort(reverse=True)\n",
    "print(x)"
   ]
  },
  {
   "cell_type": "markdown",
   "metadata": {},
   "source": [
    "# Tuples"
   ]
  },
  {
   "cell_type": "markdown",
   "metadata": {},
   "source": [
    "<ul><li> Immutable (can't add or change)</li> <li> Useful for fixed data</li> <li> Faster than lists</li> <li> Sequence type </li> </ul> <br> <b>constructors - </b> creating new tuples."
   ]
  },
  {
   "cell_type": "code",
   "execution_count": 27,
   "metadata": {},
   "outputs": [
    {
     "name": "stdout",
     "output_type": "stream",
     "text": [
      "(2,) <class 'tuple'>\n",
      "(2, 4, 6) <class 'tuple'>\n"
     ]
    }
   ],
   "source": [
    "x = ()\n",
    "x = (1,2,3)\n",
    "x = 1,2,3\n",
    "x = 2,       # comma tells Python it is a tuple\n",
    "print(x, type(x))\n",
    "\n",
    "list1 = [2,4,6]\n",
    "x = tuple(list1)\n",
    "print(x, type(x))"
   ]
  },
  {
   "cell_type": "markdown",
   "metadata": {},
   "source": [
    "<b>tuples are immutable - </b>but member objects may be mutable"
   ]
  },
  {
   "cell_type": "code",
   "execution_count": 28,
   "metadata": {},
   "outputs": [
    {
     "name": "stdout",
     "output_type": "stream",
     "text": [
      "(1, 2, 3)\n",
      "([1], 3)\n",
      "([1], 3, 4)\n"
     ]
    }
   ],
   "source": [
    "x = (1, 2, 3)\n",
    "# del(x[1])                 #fails\n",
    "# x[1] = 8                  #fails\n",
    "print(x)\n",
    "\n",
    "y = ([1, 2], 3)             # a tuple where the first item is a list\n",
    "del(y[0][1])                # delete the 2\n",
    "print(y)                    # the list within the tuple is mutable\n",
    "\n",
    "y += (4,)                   # concatenating two tuples works\n",
    "print(y)"
   ]
  },
  {
   "cell_type": "markdown",
   "metadata": {},
   "source": [
    "# Sets"
   ]
  },
  {
   "cell_type": "markdown",
   "metadata": {},
   "source": [
    "<ul><li> Store non-duplicate items</li> <li> Very fast access v/s lists</li> <li> Math Sets ops (union, intersect)</li> <li> Sets are unordered </li> \n",
    "</ul> <br> <b>constructors - </b> creating a new sets"
   ]
  },
  {
   "cell_type": "code",
   "execution_count": 29,
   "metadata": {},
   "outputs": [
    {
     "name": "stdout",
     "output_type": "stream",
     "text": [
      "{3, 5}\n",
      "set()\n",
      "{2, 3, 4}\n"
     ]
    }
   ],
   "source": [
    "x = {3, 5, 3, 5}\n",
    "print(x)\n",
    "\n",
    "y = set()\n",
    "print(y)\n",
    "\n",
    "list1 = [2, 3, 4]\n",
    "z = set(list1)\n",
    "print(z)"
   ]
  },
  {
   "cell_type": "markdown",
   "metadata": {},
   "source": [
    "<b> set operations"
   ]
  },
  {
   "cell_type": "code",
   "execution_count": 30,
   "metadata": {},
   "outputs": [
    {
     "name": "stdout",
     "output_type": "stream",
     "text": [
      "{8, 3, 5}\n",
      "{8, 3, 5, 7}\n",
      "3\n",
      "True\n",
      "8 {5, 7}\n",
      "set()\n"
     ]
    }
   ],
   "source": [
    "x = {3, 8, 5}\n",
    "print(x)\n",
    "x.add(7)\n",
    "print(x)\n",
    "\n",
    "x.remove(3)\n",
    "\n",
    "# get length of set x\n",
    "print(len(x))\n",
    "\n",
    "# check membership in x\n",
    "print(5 in x)\n",
    "\n",
    "# pop random item from set x\n",
    "print(x.pop(), x)\n",
    "\n",
    "# delete all items from set x\n",
    "x.clear()\n",
    "print(x)"
   ]
  },
  {
   "cell_type": "markdown",
   "metadata": {},
   "source": [
    "<b>Mathematical set operations</b><br>intersection (AND): set1 & set2<br>union (OR): set1 | set2<br>symmetric difference (XOR): set1 ^ set2 difference (in set1 but not set2): set1 - set2<br>subset (set2 contains set1): set1 <= set2 <br>superset (set1 contains set2): set1 >= set2"
   ]
  },
  {
   "cell_type": "code",
   "execution_count": 32,
   "metadata": {},
   "outputs": [
    {
     "name": "stdout",
     "output_type": "stream",
     "text": [
      "{3}\n",
      "{1, 2, 3, 4, 5}\n",
      "{1, 2, 4, 5}\n",
      "{1, 2}\n",
      "False\n",
      "False\n"
     ]
    }
   ],
   "source": [
    "s1 = {1, 2, 3}\n",
    "s2 = {3, 4, 5}\n",
    "print(s1 & s2)\n",
    "print(s1 | s2)\n",
    "print(s1 ^ s2)\n",
    "print(s1 - s2)\n",
    "print(s1 <= s2)\n",
    "print(s1 >= s2)"
   ]
  },
  {
   "cell_type": "markdown",
   "metadata": {},
   "source": [
    "# Dictionaries (dict)"
   ]
  },
  {
   "cell_type": "markdown",
   "metadata": {},
   "source": [
    "<ul> <li> Key/Value pairs</li> <li> Associative array</li> <li> Dicts are unordered </li> \n",
    "</ul>"
   ]
  },
  {
   "cell_type": "code",
   "execution_count": 36,
   "metadata": {},
   "outputs": [
    {
     "name": "stdout",
     "output_type": "stream",
     "text": [
      "{'meat': 12.5, 'beef': 8.5, 'chicken': 3.5}\n",
      "{'meat': 12.5, 'beef': 8.5, 'chicken': 3.5}\n",
      "{'meat': 12.5, 'beef': 8.5, 'chicken': 3.5}\n"
     ]
    }
   ],
   "source": [
    "# 3 different ways to create a dictionary\n",
    "x = {'meat':12.5, 'beef':8.5, 'chicken':3.5}\n",
    "print(x)\n",
    "x = dict([('meat',12.5), ('beef',8.5), ('chicken',3.5)])\n",
    "print(x)\n",
    "x = dict(meat=12.5, beef=8.5, chicken=3.5)\n",
    "print(x)"
   ]
  },
  {
   "cell_type": "markdown",
   "metadata": {},
   "source": [
    "<b>dict operations"
   ]
  },
  {
   "cell_type": "code",
   "execution_count": 37,
   "metadata": {},
   "outputs": [
    {
     "name": "stdout",
     "output_type": "stream",
     "text": [
      "{'meat': 12.5, 'beef': 8.5, 'chicken': 3.5, 'shrimp': 6.5}\n",
      "{'meat': 12.5, 'beef': 8.5, 'chicken': 3.5}\n",
      "3\n",
      "{}\n"
     ]
    }
   ],
   "source": [
    "x['shrimp'] = 6.5         # add or update\n",
    "print(x)\n",
    "\n",
    "# delete an item\n",
    "del(x['shrimp'])\n",
    "print(x)\n",
    "\n",
    "# get length of dict x\n",
    "print(len(x))\n",
    "\n",
    "# delete all items from dics x\n",
    "x.clear()\n",
    "print(x)\n",
    "\n",
    "# delete dict x\n",
    "del(x)"
   ]
  },
  {
   "cell_type": "markdown",
   "metadata": {},
   "source": [
    "<b>accessing keys and value in a dict</b>"
   ]
  },
  {
   "cell_type": "code",
   "execution_count": 38,
   "metadata": {},
   "outputs": [
    {
     "name": "stdout",
     "output_type": "stream",
     "text": [
      "dict_keys(['meat', 'beef', 'chicken'])\n",
      "dict_values([12.5, 8.5, 3.5])\n",
      "dict_items([('meat', 12.5), ('beef', 8.5), ('chicken', 3.5)])\n",
      "True\n",
      "False\n"
     ]
    }
   ],
   "source": [
    "y = {'meat':12.5, 'beef':8.5, 'chicken':3.5}\n",
    "print(y.keys())\n",
    "print(y.values())\n",
    "print(y.items())             # key-value pairs\n",
    "\n",
    "# check membership in y_keys (only looks in keys, not values)\n",
    "print('beef' in y)\n",
    "\n",
    "# check membership in y_values\n",
    "print('clams' in y.values())"
   ]
  },
  {
   "cell_type": "markdown",
   "metadata": {},
   "source": [
    "<b>iterating a dict - </b>note, items are in random order."
   ]
  },
  {
   "cell_type": "code",
   "execution_count": 39,
   "metadata": {},
   "outputs": [
    {
     "name": "stdout",
     "output_type": "stream",
     "text": [
      "meat 12.5\n",
      "beef 8.5\n",
      "chicken 3.5\n",
      "meat 12.5\n",
      "beef 8.5\n",
      "chicken 3.5\n"
     ]
    }
   ],
   "source": [
    "for key in y:\n",
    "    print(key, y[key])\n",
    "    \n",
    "for k ,v in y.items():\n",
    "    print(k, v)"
   ]
  },
  {
   "cell_type": "markdown",
   "metadata": {},
   "source": [
    "# Python List Comprehensions\n",
    "basic format: new_list = [transform sequence [filter]]"
   ]
  },
  {
   "cell_type": "code",
   "execution_count": 40,
   "metadata": {},
   "outputs": [],
   "source": [
    "import random"
   ]
  },
  {
   "cell_type": "markdown",
   "metadata": {},
   "source": [
    "<b>get value within a range"
   ]
  },
  {
   "cell_type": "code",
   "execution_count": 41,
   "metadata": {},
   "outputs": [
    {
     "name": "stdout",
     "output_type": "stream",
     "text": [
      "under 10: [0, 1, 2, 3, 4, 5, 6, 7, 8, 9]\n"
     ]
    }
   ],
   "source": [
    "under_10 = [x for x in range(10)]\n",
    "print('under 10: '+str(under_10))"
   ]
  },
  {
   "cell_type": "markdown",
   "metadata": {},
   "source": [
    "<b>get squared values"
   ]
  },
  {
   "cell_type": "code",
   "execution_count": 44,
   "metadata": {},
   "outputs": [
    {
     "name": "stdout",
     "output_type": "stream",
     "text": [
      "squares: [0, 1, 4, 9, 16, 25, 36, 49, 64, 81]\n"
     ]
    }
   ],
   "source": [
    "squares = [x**2 for x in range(10)]\n",
    "print('squares: '+ str(squares))"
   ]
  },
  {
   "cell_type": "markdown",
   "metadata": {},
   "source": [
    "<b>get odd numbers using mod"
   ]
  },
  {
   "cell_type": "code",
   "execution_count": 45,
   "metadata": {},
   "outputs": [
    {
     "name": "stdout",
     "output_type": "stream",
     "text": [
      "odds: [1, 3, 5, 7, 9]\n"
     ]
    }
   ],
   "source": [
    "odds = [x for x in range(10) if x%2==1]\n",
    "print('odds: ' + str(odds))"
   ]
  },
  {
   "cell_type": "markdown",
   "metadata": {},
   "source": [
    "<b>get multiples of 10"
   ]
  },
  {
   "cell_type": "code",
   "execution_count": 46,
   "metadata": {},
   "outputs": [
    {
     "name": "stdout",
     "output_type": "stream",
     "text": [
      "ten_x: [0, 10, 20, 30, 40, 50, 60, 70, 80, 90]\n"
     ]
    }
   ],
   "source": [
    "ten_x = [x*10 for x in range(10)]\n",
    "print('ten_x: ' +str(ten_x))"
   ]
  },
  {
   "cell_type": "markdown",
   "metadata": {},
   "source": [
    "<b>get all numbers from a string"
   ]
  },
  {
   "cell_type": "code",
   "execution_count": 48,
   "metadata": {},
   "outputs": [
    {
     "name": "stdout",
     "output_type": "stream",
     "text": [
      "nums: 2073\n"
     ]
    }
   ],
   "source": [
    "s = 'I love 2 go t0 the store 7 times a w3ek.'\n",
    "nums = [x for x in s if x.isnumeric()]\n",
    "print('nums: ' + ''.join(nums))"
   ]
  },
  {
   "cell_type": "markdown",
   "metadata": {},
   "source": [
    "<b>get index of a list item"
   ]
  },
  {
   "cell_type": "code",
   "execution_count": 49,
   "metadata": {},
   "outputs": [
    {
     "name": "stdout",
     "output_type": "stream",
     "text": [
      "index = 2\n"
     ]
    }
   ],
   "source": [
    "names = ['Cosmo', 'Pedro', 'Anu', 'Ray']\n",
    "idx = [k for k, v in enumerate(names) if v=='Anu']\n",
    "print('index = ' + str(idx[0]))"
   ]
  },
  {
   "cell_type": "markdown",
   "metadata": {},
   "source": [
    "<b>delet an item from a list"
   ]
  },
  {
   "cell_type": "code",
   "execution_count": 50,
   "metadata": {},
   "outputs": [
    {
     "name": "stdout",
     "output_type": "stream",
     "text": [
      "['E', 'C', 'F', 'D', 'B', 'A'] ['E', 'F', 'D', 'B', 'A']\n"
     ]
    }
   ],
   "source": [
    "letters = [x for x in 'ABCDEF']\n",
    "random.shuffle(letters)\n",
    "letrs = [a for a in letters if a != 'C']\n",
    "print(letters, letrs)"
   ]
  },
  {
   "cell_type": "markdown",
   "metadata": {},
   "source": [
    "# Stacks"
   ]
  },
  {
   "cell_type": "markdown",
   "metadata": {},
   "source": [
    "Stack is a LIFO data structure -- last-in, first-out.<br>Use <b>append()</b> to push an item onto the stack.<br>Use <b>pop()</b> to remove an item."
   ]
  },
  {
   "cell_type": "code",
   "execution_count": 51,
   "metadata": {},
   "outputs": [
    {
     "name": "stdout",
     "output_type": "stream",
     "text": [
      "[4, 7, 12, 19]\n"
     ]
    }
   ],
   "source": [
    "my_stack = list()\n",
    "my_stack.append(4)\n",
    "my_stack.append(7)\n",
    "my_stack.append(12)\n",
    "my_stack.append(19)\n",
    "print(my_stack)"
   ]
  },
  {
   "cell_type": "code",
   "execution_count": 52,
   "metadata": {},
   "outputs": [
    {
     "name": "stdout",
     "output_type": "stream",
     "text": [
      "19\n",
      "12\n",
      "7\n",
      "[4]\n"
     ]
    }
   ],
   "source": [
    "print(my_stack.pop())\n",
    "print(my_stack.pop())\n",
    "print(my_stack.pop())\n",
    "print(my_stack)"
   ]
  },
  {
   "cell_type": "markdown",
   "metadata": {},
   "source": [
    "## Stack using List with a Wrapper Class"
   ]
  },
  {
   "cell_type": "markdown",
   "metadata": {},
   "source": [
    "We created a Stack class and a full set of Stack methods.<br>But the underlying data structure is really a Python List.<br>For pop and peek methods we first check whether the stack is empty, to avoid exceptions."
   ]
  },
  {
   "cell_type": "code",
   "execution_count": 57,
   "metadata": {},
   "outputs": [],
   "source": [
    "class Stack():\n",
    "    def __init__(self):\n",
    "        self.stack = list()\n",
    "    def push(self, item):\n",
    "        self.stack.append(item)\n",
    "    def pop(self):\n",
    "        if len(self.stack) > 0:\n",
    "            return self.stack.pop()\n",
    "        else:\n",
    "            return None\n",
    "    def peek(self):\n",
    "        if len(self.stack) > 0:\n",
    "            return self.stack[len(self.stack) - 1]\n",
    "        else:\n",
    "            return None\n",
    "    def __str__(self):\n",
    "        return str(self.stack)"
   ]
  },
  {
   "cell_type": "markdown",
   "metadata": {},
   "source": [
    "### Test Code for Stack Wrapper Class"
   ]
  },
  {
   "cell_type": "code",
   "execution_count": 58,
   "metadata": {},
   "outputs": [
    {
     "name": "stdout",
     "output_type": "stream",
     "text": [
      "[1, 3]\n",
      "3\n",
      "1\n",
      "1\n",
      "None\n"
     ]
    }
   ],
   "source": [
    "my_stack = Stack()\n",
    "my_stack.push(1)\n",
    "my_stack.push(3)\n",
    "print(my_stack)\n",
    "print(my_stack.pop())\n",
    "print(my_stack.peek())\n",
    "print(my_stack.pop())\n",
    "print(my_stack.pop())"
   ]
  },
  {
   "cell_type": "markdown",
   "metadata": {},
   "source": [
    "# Queue using Python Dequeue"
   ]
  },
  {
   "cell_type": "markdown",
   "metadata": {},
   "source": [
    "Queue is a FIFO data structure -- first-in, first-out.<br>Dequeue is a double-ended queue, but we can use it for our queue.<br>We use <b>append()</b> to enqueue an item, and <b>popleft()</b> to dequeue an item.<br>See Python docs for deque."
   ]
  },
  {
   "cell_type": "code",
   "execution_count": 59,
   "metadata": {},
   "outputs": [
    {
     "name": "stdout",
     "output_type": "stream",
     "text": [
      "deque([5, 10])\n",
      "5\n"
     ]
    }
   ],
   "source": [
    "from collections import deque\n",
    "my_queue = deque()\n",
    "my_queue.append(5)\n",
    "my_queue.append(10)\n",
    "print(my_queue)\n",
    "print(my_queue.popleft())"
   ]
  },
  {
   "cell_type": "markdown",
   "metadata": {},
   "source": [
    "# Python MaxHeap"
   ]
  },
  {
   "cell_type": "markdown",
   "metadata": {},
   "source": [
    "A MaxHeap always bubbles the highest value to the top, so it can be removed instantly.<br>Public functions: <b>push, peek, pop.</b><br>Private functions: <b>swap, __floatUp, __bubbleDown, __str."
   ]
  },
  {
   "cell_type": "code",
   "execution_count": 1,
   "metadata": {},
   "outputs": [],
   "source": [
    "class MaxHeap:\n",
    "    def __init__(self, items=[]):\n",
    "        super().__init__()\n",
    "        self.heap = [0]\n",
    "        for item in items:\n",
    "            self.heap.append(item)\n",
    "            self.__floatUp(len(self.heap) - 1)\n",
    "            \n",
    "    def push(self, data):\n",
    "        self.heap.append(data)\n",
    "        self.__floatUp(len(self.heap) - 1)\n",
    "    \n",
    "    def peek(self):\n",
    "        if self.heap[1]:\n",
    "            return self.heap[1]\n",
    "        else:\n",
    "            return False\n",
    "    \n",
    "    def pop(self):\n",
    "        if len(self.heap) > 2:\n",
    "            self.__swap(1, len(self.heap) - 1)\n",
    "            max = self.heap.pop()\n",
    "            self.__bubbleDown(1)\n",
    "        elif len(self.heap) == 2:\n",
    "            max = self.heap.pop()\n",
    "        else:\n",
    "            max = False\n",
    "        return max\n",
    "    \n",
    "    def __swap(self, i, j):\n",
    "        self.heap[i], self.heap[j] = self.heap[j], self.heap[i]\n",
    "    \n",
    "    def __floatUp(self, index):\n",
    "        parent = index//2\n",
    "        if index <= 1:\n",
    "            return\n",
    "        elif self.heap[index] > self.heap[parent]:\n",
    "            self.__swap(index, parent)\n",
    "            self.__floatUp(parent)\n",
    "            \n",
    "    def __bubbleDown(self, index):\n",
    "        left = index * 2\n",
    "        right = index * 2 + 1\n",
    "        largest = index\n",
    "        if len(self.heap) > left and self.heap[largest] < self.heap[left]:\n",
    "            largest = left\n",
    "        if len(self.heap) > right and self.heap[largest] < self.heap[right]:\n",
    "            largest = right\n",
    "        if largest != index:\n",
    "            self.__swap(index, largest)\n",
    "            self.__bubbleDown(largest)\n",
    "    \n",
    "    def __str__(self):\n",
    "        return str(self.heap)"
   ]
  },
  {
   "cell_type": "markdown",
   "metadata": {},
   "source": [
    "## MaxHeap Test Code"
   ]
  },
  {
   "cell_type": "code",
   "execution_count": 2,
   "metadata": {},
   "outputs": [
    {
     "name": "stdout",
     "output_type": "stream",
     "text": [
      "[0, 95, 10, 21, 3]\n",
      "95\n",
      "21\n"
     ]
    }
   ],
   "source": [
    "m = MaxHeap([95,3,21])\n",
    "m.push(10)\n",
    "print(m)\n",
    "print(m.pop())\n",
    "print(m.peek())"
   ]
  },
  {
   "cell_type": "markdown",
   "metadata": {},
   "source": [
    "# Python Linked Lists"
   ]
  },
  {
   "cell_type": "markdown",
   "metadata": {},
   "source": [
    "## Node Class"
   ]
  },
  {
   "cell_type": "markdown",
   "metadata": {},
   "source": [
    "Node class has a constructor that sets the data passed in, and optionally can set the next_node and prev_node.<br>It also has a str method to give a string representation for printing.<br>Note that prev_node is only used for Doubly Linked Lists."
   ]
  },
  {
   "cell_type": "code",
   "execution_count": 5,
   "metadata": {},
   "outputs": [],
   "source": [
    "class Node:\n",
    "    \n",
    "    def __init__(self, d, n=None, p=None):\n",
    "        self.data = d\n",
    "        self.next_node = n\n",
    "        self.prev_node = p\n",
    "        \n",
    "    def __str__(self):\n",
    "        return ('(' + str(self.data) + ')')"
   ]
  },
  {
   "cell_type": "markdown",
   "metadata": {},
   "source": [
    "## 1) LinkedList Class"
   ]
  },
  {
   "cell_type": "markdown",
   "metadata": {},
   "source": [
    "<b>Methods:<br><ul>Add<br>Find<br>Remove<br>Print_lins</ul>"
   ]
  },
  {
   "cell_type": "code",
   "execution_count": 3,
   "metadata": {},
   "outputs": [],
   "source": [
    "class LinkedList:\n",
    "    \n",
    "    def __init__(self, r=None):\n",
    "        self.root = r\n",
    "        self.size = 0\n",
    "        \n",
    "    def add(self, d):\n",
    "        new_node = Node(d, self.root)\n",
    "        self.root = new_node\n",
    "        self.size += 1\n",
    "    \n",
    "    def find(self, d):\n",
    "        this_node = self.root\n",
    "        while this_node is not None:\n",
    "            if this_node.data == d:\n",
    "                return d\n",
    "            else:\n",
    "                this_node = this_node.next_node\n",
    "        return None\n",
    "    \n",
    "    def remove(self, d):\n",
    "        this_node = self.root\n",
    "        prev_node = None\n",
    "        \n",
    "        while this_node is not None:\n",
    "            if this_node.data == d:\n",
    "                if prev_node is not None:      # data is in non-root\n",
    "                    prev_node.next_node = this_node.next_node\n",
    "                else:                          # data is in root node\n",
    "                    self.root = this_node.next_node\n",
    "                self.size -= 1\n",
    "                return True                    # data removed\n",
    "            else:\n",
    "                prev_node = this_node\n",
    "                this_node = this_node.next_node\n",
    "        return False                           # data not found\n",
    "    \n",
    "    def print_list(self):\n",
    "        this_node = self.root\n",
    "        while this_node is not None:\n",
    "            print(this_node, end='->')\n",
    "            this_node = this_node.next_node\n",
    "        print ('None')"
   ]
  },
  {
   "cell_type": "markdown",
   "metadata": {},
   "source": [
    "### LinkedList Test Code"
   ]
  },
  {
   "cell_type": "code",
   "execution_count": 6,
   "metadata": {},
   "outputs": [
    {
     "name": "stdout",
     "output_type": "stream",
     "text": [
      "(12)->(8)->(5)->None\n",
      "size = 3\n",
      "size = 2\n",
      "5\n",
      "(12)\n"
     ]
    }
   ],
   "source": [
    "myList = LinkedList()\n",
    "myList.add(5)\n",
    "myList.add(8)\n",
    "myList.add(12)\n",
    "myList.print_list()\n",
    "\n",
    "print(\"size = \"+str(myList.size))\n",
    "myList.remove(8)\n",
    "print(\"size = \"+str(myList.size))\n",
    "print(myList.find(5))\n",
    "print(myList.root)"
   ]
  },
  {
   "cell_type": "markdown",
   "metadata": {},
   "source": [
    "## 2) Circular Linked List"
   ]
  },
  {
   "cell_type": "markdown",
   "metadata": {},
   "source": [
    "Includes attributes <b>root</b> and <b>size</b>.<br>Includes methods <b>add</b>, <b>find</b>, <b>remove</b>, and <b>print_list</b>."
   ]
  },
  {
   "cell_type": "code",
   "execution_count": 13,
   "metadata": {},
   "outputs": [],
   "source": [
    "class CircularLinkedList:\n",
    "    \n",
    "    def __init__(self, r = None):\n",
    "        self.root = r\n",
    "        self.size = 0\n",
    "        \n",
    "    def add(self, d):\n",
    "        if self.size == 0:\n",
    "            self.root = Node(d)\n",
    "            self.root.next_node = self.root\n",
    "        else:\n",
    "            new_node = Node(d, self.root.next_node)\n",
    "            self.root.next_node = new_node\n",
    "        self.size += 1\n",
    "        \n",
    "    def find(self, d):\n",
    "        this_node = self.root\n",
    "        while True:\n",
    "            if this_node.data ==d:\n",
    "                return d\n",
    "            elif this_node.next_node == self.root:\n",
    "                return False\n",
    "            this_node = this_node.next_node\n",
    "        \n",
    "    def remove(self, d):\n",
    "        this_node = self.root\n",
    "        prev_node = None    \n",
    "        \n",
    "        while True:\n",
    "            if this_node.data == d:            # found\n",
    "                if prev_node is not None:\n",
    "                    prev_node.next_node = this_node.next_node\n",
    "                else:\n",
    "                    while this_node.next_node != self.root:\n",
    "                        this_node = this_node.next_node\n",
    "                    this_node.next_node = self.root.next_node\n",
    "                    self.root = self.root.next_node\n",
    "                self.size -= 1\n",
    "                return True                 # data removed\n",
    "            elif this_node.next_node == self.root:\n",
    "                return False                # data not found\n",
    "            prev_node = this_node\n",
    "            this_node = this_node.next_node\n",
    "    \n",
    "    def print_list(self):\n",
    "        if self.root is None:\n",
    "            return\n",
    "        this_node = self.root\n",
    "        print(this_node, end='->')\n",
    "        while this_node.next_node != self.root:\n",
    "            this_node = this_node.next_node\n",
    "            print(this_node, end='->')\n",
    "        print()\n",
    "            \n",
    "                "
   ]
  },
  {
   "cell_type": "markdown",
   "metadata": {},
   "source": [
    "### Circular Linked List Test Code"
   ]
  },
  {
   "cell_type": "code",
   "execution_count": 14,
   "metadata": {},
   "outputs": [
    {
     "name": "stdout",
     "output_type": "stream",
     "text": [
      "size = 5\n",
      "8\n",
      "False\n",
      "(5)->(9)->(8)->(3)->(7)->(5)->(9)->(8)->(3)->\n"
     ]
    }
   ],
   "source": [
    "cll = CircularLinkedList()\n",
    "for i in [5,7,3,8,9]:\n",
    "    cll.add(i)\n",
    "\n",
    "print(\"size = \"+str(cll.size))\n",
    "print(cll.find(8))\n",
    "print(cll.find(12))\n",
    "\n",
    "my_node = cll.root\n",
    "print(my_node, end='->')\n",
    "for i in range(8):\n",
    "    my_node = my_node.next_node\n",
    "    print(my_node, end= '->')\n",
    "print()"
   ]
  },
  {
   "cell_type": "code",
   "execution_count": 15,
   "metadata": {},
   "outputs": [
    {
     "name": "stdout",
     "output_type": "stream",
     "text": [
      "(5)->(9)->(8)->(3)->(7)->\n",
      "False\n",
      "size = 4\n",
      "(9)->(3)->(7)->\n"
     ]
    }
   ],
   "source": [
    "cll.print_list()\n",
    "cll.remove(8)\n",
    "print(cll.remove(15))\n",
    "print(\"size = \"+str(cll.size))\n",
    "cll.remove(5)                  # delete root node\n",
    "cll.print_list()"
   ]
  },
  {
   "cell_type": "markdown",
   "metadata": {},
   "source": [
    "## 3) Doubly Linked List"
   ]
  },
  {
   "cell_type": "markdown",
   "metadata": {},
   "source": [
    "<b>Advantages </b> over a regular linked list:<br><ul>Can iterate the list in either direction<br>Can delete a node without iterating through the list (if given a pointer to the node)</ul>"
   ]
  },
  {
   "cell_type": "code",
   "execution_count": 19,
   "metadata": {},
   "outputs": [],
   "source": [
    "class DoublyLinkedList():\n",
    "    \n",
    "    def __init__(self, r = None):\n",
    "        self.root = r\n",
    "        self.last = r\n",
    "        self.size = 0\n",
    "    \n",
    "    def add(self, d):\n",
    "        if self.size == 0:\n",
    "            self.root = Node(d)\n",
    "            self.last = self.root\n",
    "        else:\n",
    "            new_node = Node(d, self.root)\n",
    "            self.root.prev_node = new_node\n",
    "            self.root = new_node\n",
    "        self.size += 1\n",
    "    \n",
    "    def find(self, d):\n",
    "        this_node = self.root\n",
    "        while this_node is not None:\n",
    "            if this_node.data == d:\n",
    "                return d\n",
    "            elif this_node.next_node == None:\n",
    "                return False\n",
    "            else:\n",
    "                this_node = this_node.next_node\n",
    "    \n",
    "    def remove(self, d):\n",
    "        this_node = self.root\n",
    "        while this_node is not None:\n",
    "            if this_node.data == d:\n",
    "                if this_node.prev_node is not None:\n",
    "                    if this_node.next_node is not None:       # delete a middle\n",
    "                        this_node.prev_node.next_node = this_node.next_node\n",
    "                        this_node.next_node.prev_node = this_node.prev_node\n",
    "                    else:                                     # delete last node\n",
    "                        this_node.prev_node.next_node = None\n",
    "                        self.last = this_node.prev_node\n",
    "                else:                                         # delete root node\n",
    "                    self.root = this_node.next_node\n",
    "                    this_node.next_node.prev_node = self.root\n",
    "                self.size -= 1\n",
    "                return True                                   # data removed\n",
    "            else:\n",
    "                this_node = this_node.next_node\n",
    "        return False                                          # data not found\n",
    "                        \n",
    "    def print_list(self):\n",
    "        if self.root is None:\n",
    "            return\n",
    "        this_node = self.root\n",
    "        print(this_node, end='->')\n",
    "        while this_node.next_node is not None:\n",
    "            this_node = this_node.next_node\n",
    "            print(this_node, end='->')\n",
    "        print()"
   ]
  },
  {
   "cell_type": "markdown",
   "metadata": {},
   "source": [
    "### Doubly Linked List Test Code"
   ]
  },
  {
   "cell_type": "code",
   "execution_count": 20,
   "metadata": {},
   "outputs": [
    {
     "name": "stdout",
     "output_type": "stream",
     "text": [
      "size = 5\n",
      "(9)->(8)->(3)->(9)->(5)->\n",
      "size = 4\n"
     ]
    }
   ],
   "source": [
    "dll = DoublyLinkedList()\n",
    "for i in [5,9,3,8,9]:\n",
    "    dll.add(i)\n",
    "\n",
    "print(\"size = \"+str(dll.size))\n",
    "dll.print_list()\n",
    "dll.remove(8)\n",
    "print(\"size = \"+str(dll.size))"
   ]
  },
  {
   "cell_type": "code",
   "execution_count": 21,
   "metadata": {},
   "outputs": [
    {
     "name": "stdout",
     "output_type": "stream",
     "text": [
      "False\n",
      "False\n",
      "(22)->(21)->(9)->(3)->(9)->\n",
      "(3)\n"
     ]
    }
   ],
   "source": [
    "print(dll.remove(15))\n",
    "print(dll.find(15))\n",
    "dll.add(21)\n",
    "dll.add(22)\n",
    "dll.remove(5)\n",
    "dll.print_list()\n",
    "print(dll.last.prev_node)"
   ]
  },
  {
   "cell_type": "code",
   "execution_count": null,
   "metadata": {},
   "outputs": [],
   "source": []
  },
  {
   "cell_type": "markdown",
   "metadata": {},
   "source": [
    "## Binary Search Tree"
   ]
  },
  {
   "cell_type": "markdown",
   "metadata": {},
   "source": [
    "<ul> - Each node is greater than every node in its left subtree <br> - Each node is less than every node in its right subtree<br><br><b>Constructor </b>sets three attributes: data, left subtree and right subtree.<br><b>Insert </b>inserts a new subtree into the proper location.<br><b>Find  </b>finds a value. If value not found, returns False.<br><b>Get_size  </b>returns the number of nodes in the tree (excluding None nodes).<br><b>Preorder </b>prints a preorder traversal of the tree.<br><b>Inorder </b>prints an inorder traversal of the tree.</ul>"
   ]
  },
  {
   "cell_type": "code",
   "execution_count": 22,
   "metadata": {},
   "outputs": [],
   "source": [
    "class Tree:\n",
    "    def __init__(self, data, left=None, right=None):\n",
    "        self.data = data \n",
    "        self.left = left\n",
    "        self.right = right\n",
    "    def insert(self,data):\n",
    "        if self.data == data:\n",
    "            return False                   # duplicate value\n",
    "        elif self.data > data:\n",
    "            if self.left is not None:\n",
    "                return self.left.insert(data)\n",
    "            else:\n",
    "                self.left = Tree(data)\n",
    "                return True\n",
    "        else:\n",
    "            if self.right is not None:\n",
    "                return self.right.insert(data)\n",
    "            else:\n",
    "                self.right = Tree(data)\n",
    "                return True\n",
    "    def find(self,data):\n",
    "        if self.data == data:\n",
    "            return data\n",
    "        elif self.data > data:\n",
    "            if self.left is None:\n",
    "                return None\n",
    "            else:\n",
    "                return self.left.find(data)\n",
    "        elif self.data < data:\n",
    "            if self.right is None:\n",
    "                return False\n",
    "            else:\n",
    "                return self.right.find(data)\n",
    "    def get_size(self):\n",
    "        if self.left is not None and self.right is not None:\n",
    "            return 1 + self.left.get_size() + self.right.get_size()\n",
    "        elif self.left:\n",
    "            return 1 + self.left.get_size()\n",
    "        elif self.right:\n",
    "            return 1 + self.right.get_size()\n",
    "        else:\n",
    "            return 1\n",
    "    def preorder(self):\n",
    "        if self is not None:\n",
    "            print(self.data, end=' ')\n",
    "            if self.left is not None:\n",
    "                self.left.preorder()\n",
    "            if self.right:\n",
    "                self.right.preorder()\n",
    "    def inorder(self):\n",
    "        if self is not None:\n",
    "            if self.left is not None:\n",
    "                self.left.inorder()\n",
    "            print(self.data, end=' ')\n",
    "            if self.right is not None:\n",
    "                self.right.inorder()\n",
    "            \n",
    "        "
   ]
  },
  {
   "cell_type": "markdown",
   "metadata": {},
   "source": [
    "### Test Code"
   ]
  },
  {
   "cell_type": "markdown",
   "metadata": {},
   "source": [
    "We create a new tree, insert one value, insert a whole list of values, find all values from 1 to 15 (False for 0, 5 and 8 shows that those values are not in the tree), print the size of the tree, print preorder and postorder traversals."
   ]
  },
  {
   "cell_type": "code",
   "execution_count": 23,
   "metadata": {},
   "outputs": [
    {
     "name": "stdout",
     "output_type": "stream",
     "text": [
      "None 1 2 3 4 False 6 7 None 9 10 11 12 13 14 15 \n",
      " 13\n",
      "7 2 1 3 6 4 9 15 10 12 11 13 14 \n",
      "1 2 3 4 6 7 9 10 11 12 13 14 15 \n"
     ]
    }
   ],
   "source": [
    "tree = Tree(7)\n",
    "tree.insert(9)\n",
    "for i in [15, 10, 2, 12, 3, 1, 13, 6, 11, 4, 14, 9]:\n",
    "    tree.insert(i)\n",
    "for i in range(16):\n",
    "    print(tree.find(i), end=' ')\n",
    "print('\\n', tree.get_size())\n",
    "\n",
    "tree.preorder()\n",
    "print()\n",
    "tree.inorder()\n",
    "print()"
   ]
  },
  {
   "cell_type": "code",
   "execution_count": null,
   "metadata": {},
   "outputs": [],
   "source": []
  },
  {
   "cell_type": "markdown",
   "metadata": {},
   "source": [
    "## Graphs"
   ]
  },
  {
   "cell_type": "markdown",
   "metadata": {},
   "source": [
    "### Vertex Class"
   ]
  },
  {
   "cell_type": "markdown",
   "metadata": {},
   "source": [
    "The Vertex class has a constructor that sets the name of the vertex (in our example, just a letter), and creates a new empty set to store neighbours.<br><br>The add_neighbour method adds the name of a neighbouring vertex to the neighbours set. This set automatically eliminates duplicates."
   ]
  },
  {
   "cell_type": "code",
   "execution_count": 24,
   "metadata": {},
   "outputs": [],
   "source": [
    "class Vertex:\n",
    "    def __init__(self,n):\n",
    "        self.name = n\n",
    "        self.neighbours = set()\n",
    "    \n",
    "    def add_neighbour(self, v):\n",
    "        self.neighbours.add(v)"
   ]
  },
  {
   "cell_type": "markdown",
   "metadata": {},
   "source": [
    "### Graph Class"
   ]
  },
  {
   "cell_type": "markdown",
   "metadata": {},
   "source": [
    "The Graph class uses a dictionary to store vertices in the format, vertex_name:vertex_object.<br><br>Adding a new vertex to the graph, we first check if the object passed in is a vertex object, then we check if it already exists in the graph. If both checks pass, then we add the vertex to the graph's vertices dictionary.<br><br>When adding an edge, we receive two vertex names, we first check if both vertex names are valid, then we add each to the other's neighbours set.<br><br>To print the graph, we iterate through the vertices, and print each vertex name (the key) followed by its sorted neighbours list."
   ]
  },
  {
   "cell_type": "code",
   "execution_count": 25,
   "metadata": {},
   "outputs": [],
   "source": [
    "class Graph:\n",
    "    vertices = {}\n",
    "    \n",
    "    def add_vertex(self, vertex):\n",
    "        if isinstance(vertex, Vertex) and vertex.name not in self.vertices:\n",
    "            self.vertices[vertex.name] = vertex\n",
    "            return True\n",
    "        else:\n",
    "            return False\n",
    "    \n",
    "    def add_edge(self, u, v):\n",
    "        if u in self.vertices and v in self.vertices:\n",
    "            self.vertices[u].add_neighbour(v)\n",
    "            self.vertices[v].add_neighbour(u)\n",
    "            return True\n",
    "        else:\n",
    "            return False\n",
    "        \n",
    "    def print_graph(self):\n",
    "        for key in sorted(list(self.vertices.keys())):\n",
    "            print(key, sorted(list(self.vertices[key].neighbours)))"
   ]
  },
  {
   "cell_type": "markdown",
   "metadata": {},
   "source": [
    "### Test Code"
   ]
  },
  {
   "cell_type": "code",
   "execution_count": 26,
   "metadata": {},
   "outputs": [],
   "source": [
    "g = Graph()\n",
    "a = Vertex('A')\n",
    "g.add_vertex(a)\n",
    "g.add_vertex(Vertex('B'))\n",
    "for i in range(ord('A'), ord('K')):\n",
    "    g.add_vertex(Vertex(chr(i)))"
   ]
  },
  {
   "cell_type": "code",
   "execution_count": 27,
   "metadata": {},
   "outputs": [
    {
     "name": "stdout",
     "output_type": "stream",
     "text": [
      "A ['B']\n",
      "B ['A', 'F']\n",
      "C ['G']\n",
      "D ['E', 'H']\n",
      "E ['D', 'H']\n",
      "F ['B', 'G', 'I', 'J']\n",
      "G ['C', 'F', 'J']\n",
      "H ['D', 'E']\n",
      "I ['F']\n",
      "J ['F', 'G']\n"
     ]
    }
   ],
   "source": [
    "edges = ['AB','Ae','BF','CG','DE','DH','EH','FG','FI','FJ','GJ']\n",
    "for edge in edges:\n",
    "    g.add_edge(edge[0], edge[1])\n",
    "    \n",
    "g.print_graph()"
   ]
  },
  {
   "cell_type": "code",
   "execution_count": null,
   "metadata": {},
   "outputs": [],
   "source": []
  },
  {
   "cell_type": "markdown",
   "metadata": {},
   "source": [
    "# Graph Implementation Using Adjacency Matrix"
   ]
  },
  {
   "cell_type": "markdown",
   "metadata": {},
   "source": [
    "for undirected graph, with weighted or unweighted edges."
   ]
  },
  {
   "cell_type": "markdown",
   "metadata": {},
   "source": [
    "## Vertex Class"
   ]
  },
  {
   "cell_type": "markdown",
   "metadata": {},
   "source": [
    "A vertex object only needs to store its name."
   ]
  },
  {
   "cell_type": "code",
   "execution_count": 28,
   "metadata": {},
   "outputs": [],
   "source": [
    "class Vertex:\n",
    "    def __init__(self, n):\n",
    "        self.name = n"
   ]
  },
  {
   "cell_type": "markdown",
   "metadata": {},
   "source": [
    "## Graph Class"
   ]
  },
  {
   "cell_type": "markdown",
   "metadata": {},
   "source": [
    "A graph object has three attributes:<br><ul><b>vertices - </b>a dictionary with vertex_name:vertex_object.<br><b>edges - </b>a 2-dimensional list (i.e a matrix) of edges. for an unweighted graph it will contain 0 for no edge and 1 for edge.<br><b>edge-indices - </b>a dictionary with vertex_name:list_index (eg. A:0) to access edges.<br>add_vertex updates all three of these attributes.<br>add_edge only needs to update the edges matrix.</ul>"
   ]
  },
  {
   "cell_type": "code",
   "execution_count": 32,
   "metadata": {},
   "outputs": [],
   "source": [
    "class Graph:\n",
    "    vertices = {}\n",
    "    edges = []\n",
    "    edge_indices = {}\n",
    "    \n",
    "    def add_vertex(self, vertex):\n",
    "        if isinstance(vertex, Vertex) and vertex.name not in self.vertices:\n",
    "            self.vertices[vertex.name] = vertex\n",
    "            # for loop append a column of zeros to the edges matrix\n",
    "            for row in self.edges:\n",
    "                row.append(0)\n",
    "            # append a row of zeros to the bottom of the edges matrix\n",
    "            self.edges.append([0] * (len(self.edges)+1))\n",
    "            self.edge_indices[vertex.name] = len(self.edge_indices)\n",
    "            return True\n",
    "        else:\n",
    "            return False\n",
    "    \n",
    "    def add_edge(self, u, v, weight=1):\n",
    "        if u in self.vertices and v in self.vertices:\n",
    "            self.edges[self.edge_indices[u]][self.edge_indices[v]] = weight\n",
    "            self.edges[self.edge_indices[v]][self.edge_indices[u]] = weight\n",
    "            return True\n",
    "        else:\n",
    "            return False\n",
    "    \n",
    "    def print_graph(self):\n",
    "        for v, i in sorted(self.edge_indices.items()):\n",
    "            print(v + ' ', end='')\n",
    "            for j in range(len(self.edges)):\n",
    "                print(self.edges[i][j], end=' ')\n",
    "            print(' ')"
   ]
  },
  {
   "cell_type": "markdown",
   "metadata": {},
   "source": [
    "### Test Code"
   ]
  },
  {
   "cell_type": "code",
   "execution_count": 34,
   "metadata": {},
   "outputs": [],
   "source": [
    "g = Graph()\n",
    "a = Vertex('A')\n",
    "g.add_vertex(a)\n",
    "g.add_vertex(Vertex('B'))\n",
    "for i in range(ord('A'), ord('K')):\n",
    "    g.add_vertex(Vertex(chr(i)))"
   ]
  },
  {
   "cell_type": "code",
   "execution_count": 35,
   "metadata": {},
   "outputs": [
    {
     "name": "stdout",
     "output_type": "stream",
     "text": [
      "A 0 1 0 0 0 0 0 0 0 0  \n",
      "B 1 0 0 0 0 1 0 0 0 0  \n",
      "C 0 0 0 0 0 0 1 0 0 0  \n",
      "D 0 0 0 0 1 0 0 1 0 0  \n",
      "E 0 0 0 1 0 0 0 1 0 0  \n",
      "F 0 1 0 0 0 0 1 0 1 1  \n",
      "G 0 0 1 0 0 1 0 0 0 1  \n",
      "H 0 0 0 1 1 0 0 0 0 0  \n",
      "I 0 0 0 0 0 1 0 0 0 0  \n",
      "J 0 0 0 0 0 1 1 0 0 0  \n"
     ]
    }
   ],
   "source": [
    "edges = ['AB','Ae','BF','CG','DE','DH','EH','FG','FI','FJ','GJ']\n",
    "for edge in edges:\n",
    "    g.add_edge(edge[0], edge[1])\n",
    "    \n",
    "g.print_graph()"
   ]
  },
  {
   "cell_type": "code",
   "execution_count": null,
   "metadata": {},
   "outputs": [],
   "source": []
  }
 ],
 "metadata": {
  "kernelspec": {
   "display_name": "Python 3",
   "language": "python",
   "name": "python3"
  },
  "language_info": {
   "codemirror_mode": {
    "name": "ipython",
    "version": 3
   },
   "file_extension": ".py",
   "mimetype": "text/x-python",
   "name": "python",
   "nbconvert_exporter": "python",
   "pygments_lexer": "ipython3",
   "version": "3.7.6"
  }
 },
 "nbformat": 4,
 "nbformat_minor": 4
}
